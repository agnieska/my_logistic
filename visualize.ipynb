{
 "cells": [
  {
   "cell_type": "code",
   "execution_count": 25,
   "metadata": {},
   "outputs": [],
   "source": [
    "import numpy as np\n",
    "import pandas as pd\n",
    "from pprint import pprint\n",
    "import math\n",
    "import matplotlib.pyplot as plt"
   ]
  },
  {
   "cell_type": "code",
   "execution_count": 15,
   "metadata": {},
   "outputs": [
    {
     "data": {
      "text/plain": [
       "1600"
      ]
     },
     "execution_count": 15,
     "metadata": {},
     "output_type": "execute_result"
    }
   ],
   "source": [
    "data = pd.read_csv(\"resources/dataset_train.csv\")\n",
    "m = data['Index'].shape[0]\n",
    "m"
   ]
  },
  {
   "cell_type": "code",
   "execution_count": 6,
   "metadata": {},
   "outputs": [
    {
     "data": {
      "text/html": [
       "<div>\n",
       "<style scoped>\n",
       "    .dataframe tbody tr th:only-of-type {\n",
       "        vertical-align: middle;\n",
       "    }\n",
       "\n",
       "    .dataframe tbody tr th {\n",
       "        vertical-align: top;\n",
       "    }\n",
       "\n",
       "    .dataframe thead th {\n",
       "        text-align: right;\n",
       "    }\n",
       "</style>\n",
       "<table border=\"1\" class=\"dataframe\">\n",
       "  <thead>\n",
       "    <tr style=\"text-align: right;\">\n",
       "      <th></th>\n",
       "      <th>Index</th>\n",
       "      <th>Hogwarts House</th>\n",
       "      <th>First Name</th>\n",
       "      <th>Last Name</th>\n",
       "      <th>Birthday</th>\n",
       "      <th>Best Hand</th>\n",
       "      <th>Arithmancy</th>\n",
       "      <th>Astronomy</th>\n",
       "      <th>Herbology</th>\n",
       "      <th>Defense Against the Dark Arts</th>\n",
       "      <th>Divination</th>\n",
       "      <th>Muggle Studies</th>\n",
       "      <th>Ancient Runes</th>\n",
       "      <th>History of Magic</th>\n",
       "      <th>Transfiguration</th>\n",
       "      <th>Potions</th>\n",
       "      <th>Care of Magical Creatures</th>\n",
       "      <th>Charms</th>\n",
       "      <th>Flying</th>\n",
       "    </tr>\n",
       "  </thead>\n",
       "  <tbody>\n",
       "    <tr>\n",
       "      <th>0</th>\n",
       "      <td>0</td>\n",
       "      <td>Ravenclaw</td>\n",
       "      <td>Tamara</td>\n",
       "      <td>Hsu</td>\n",
       "      <td>2000-03-30</td>\n",
       "      <td>Left</td>\n",
       "      <td>58384.0</td>\n",
       "      <td>-487.886086</td>\n",
       "      <td>5.727180</td>\n",
       "      <td>4.878861</td>\n",
       "      <td>4.722</td>\n",
       "      <td>272.035831</td>\n",
       "      <td>532.484226</td>\n",
       "      <td>5.231058</td>\n",
       "      <td>1039.788281</td>\n",
       "      <td>3.790369</td>\n",
       "      <td>0.715939</td>\n",
       "      <td>-232.79405</td>\n",
       "      <td>-26.89</td>\n",
       "    </tr>\n",
       "    <tr>\n",
       "      <th>1</th>\n",
       "      <td>1</td>\n",
       "      <td>Slytherin</td>\n",
       "      <td>Erich</td>\n",
       "      <td>Paredes</td>\n",
       "      <td>1999-10-14</td>\n",
       "      <td>Right</td>\n",
       "      <td>67239.0</td>\n",
       "      <td>-552.060507</td>\n",
       "      <td>-5.987446</td>\n",
       "      <td>5.520605</td>\n",
       "      <td>-5.612</td>\n",
       "      <td>-487.340557</td>\n",
       "      <td>367.760303</td>\n",
       "      <td>4.107170</td>\n",
       "      <td>1058.944592</td>\n",
       "      <td>7.248742</td>\n",
       "      <td>0.091674</td>\n",
       "      <td>-252.18425</td>\n",
       "      <td>-113.45</td>\n",
       "    </tr>\n",
       "    <tr>\n",
       "      <th>2</th>\n",
       "      <td>2</td>\n",
       "      <td>Ravenclaw</td>\n",
       "      <td>Stephany</td>\n",
       "      <td>Braun</td>\n",
       "      <td>1999-11-03</td>\n",
       "      <td>Left</td>\n",
       "      <td>23702.0</td>\n",
       "      <td>-366.076117</td>\n",
       "      <td>7.725017</td>\n",
       "      <td>3.660761</td>\n",
       "      <td>6.140</td>\n",
       "      <td>664.893521</td>\n",
       "      <td>602.585284</td>\n",
       "      <td>3.555579</td>\n",
       "      <td>1088.088348</td>\n",
       "      <td>8.728531</td>\n",
       "      <td>-0.515327</td>\n",
       "      <td>-227.34265</td>\n",
       "      <td>30.42</td>\n",
       "    </tr>\n",
       "    <tr>\n",
       "      <th>3</th>\n",
       "      <td>3</td>\n",
       "      <td>Gryffindor</td>\n",
       "      <td>Vesta</td>\n",
       "      <td>Mcmichael</td>\n",
       "      <td>2000-08-19</td>\n",
       "      <td>Left</td>\n",
       "      <td>32667.0</td>\n",
       "      <td>697.742809</td>\n",
       "      <td>-6.497214</td>\n",
       "      <td>-6.977428</td>\n",
       "      <td>4.026</td>\n",
       "      <td>-537.001128</td>\n",
       "      <td>523.982133</td>\n",
       "      <td>-4.809637</td>\n",
       "      <td>920.391449</td>\n",
       "      <td>0.821911</td>\n",
       "      <td>-0.014040</td>\n",
       "      <td>-256.84675</td>\n",
       "      <td>200.64</td>\n",
       "    </tr>\n",
       "    <tr>\n",
       "      <th>4</th>\n",
       "      <td>4</td>\n",
       "      <td>Gryffindor</td>\n",
       "      <td>Gaston</td>\n",
       "      <td>Gibbs</td>\n",
       "      <td>1998-09-27</td>\n",
       "      <td>Left</td>\n",
       "      <td>60158.0</td>\n",
       "      <td>436.775204</td>\n",
       "      <td>-7.820623</td>\n",
       "      <td>NaN</td>\n",
       "      <td>2.236</td>\n",
       "      <td>-444.262537</td>\n",
       "      <td>599.324514</td>\n",
       "      <td>-3.444377</td>\n",
       "      <td>937.434724</td>\n",
       "      <td>4.311066</td>\n",
       "      <td>-0.264070</td>\n",
       "      <td>-256.38730</td>\n",
       "      <td>157.98</td>\n",
       "    </tr>\n",
       "    <tr>\n",
       "      <th>5</th>\n",
       "      <td>5</td>\n",
       "      <td>Slytherin</td>\n",
       "      <td>Corrine</td>\n",
       "      <td>Hammond</td>\n",
       "      <td>1999-04-04</td>\n",
       "      <td>Right</td>\n",
       "      <td>21209.0</td>\n",
       "      <td>-613.687160</td>\n",
       "      <td>-4.289197</td>\n",
       "      <td>6.136872</td>\n",
       "      <td>-6.592</td>\n",
       "      <td>-440.997704</td>\n",
       "      <td>396.201804</td>\n",
       "      <td>5.380286</td>\n",
       "      <td>1052.845164</td>\n",
       "      <td>11.751212</td>\n",
       "      <td>1.049894</td>\n",
       "      <td>-247.94549</td>\n",
       "      <td>-34.69</td>\n",
       "    </tr>\n",
       "    <tr>\n",
       "      <th>6</th>\n",
       "      <td>6</td>\n",
       "      <td>Gryffindor</td>\n",
       "      <td>Tom</td>\n",
       "      <td>Guido</td>\n",
       "      <td>2000-09-30</td>\n",
       "      <td>Left</td>\n",
       "      <td>49167.0</td>\n",
       "      <td>628.046051</td>\n",
       "      <td>-4.861976</td>\n",
       "      <td>-6.280461</td>\n",
       "      <td>NaN</td>\n",
       "      <td>-926.892512</td>\n",
       "      <td>583.742442</td>\n",
       "      <td>-7.322486</td>\n",
       "      <td>923.539573</td>\n",
       "      <td>1.646666</td>\n",
       "      <td>0.153022</td>\n",
       "      <td>-257.83447</td>\n",
       "      <td>261.55</td>\n",
       "    </tr>\n",
       "    <tr>\n",
       "      <th>7</th>\n",
       "      <td>7</td>\n",
       "      <td>Hufflepuff</td>\n",
       "      <td>Alicia</td>\n",
       "      <td>Hayward</td>\n",
       "      <td>1997-07-08</td>\n",
       "      <td>Right</td>\n",
       "      <td>33010.0</td>\n",
       "      <td>411.412727</td>\n",
       "      <td>5.931832</td>\n",
       "      <td>-4.114127</td>\n",
       "      <td>2.769</td>\n",
       "      <td>-502.021336</td>\n",
       "      <td>439.351416</td>\n",
       "      <td>NaN</td>\n",
       "      <td>1041.091935</td>\n",
       "      <td>6.581791</td>\n",
       "      <td>-0.171704</td>\n",
       "      <td>-244.03492</td>\n",
       "      <td>72.25</td>\n",
       "    </tr>\n",
       "    <tr>\n",
       "      <th>8</th>\n",
       "      <td>8</td>\n",
       "      <td>Gryffindor</td>\n",
       "      <td>Bella</td>\n",
       "      <td>Leatherman</td>\n",
       "      <td>1998-12-07</td>\n",
       "      <td>Left</td>\n",
       "      <td>20278.0</td>\n",
       "      <td>496.394945</td>\n",
       "      <td>-5.215891</td>\n",
       "      <td>-4.963949</td>\n",
       "      <td>5.855</td>\n",
       "      <td>-626.552041</td>\n",
       "      <td>567.842402</td>\n",
       "      <td>-6.198661</td>\n",
       "      <td>925.255500</td>\n",
       "      <td>1.086518</td>\n",
       "      <td>1.147032</td>\n",
       "      <td>-252.27561</td>\n",
       "      <td>244.11</td>\n",
       "    </tr>\n",
       "    <tr>\n",
       "      <th>9</th>\n",
       "      <td>9</td>\n",
       "      <td>Hufflepuff</td>\n",
       "      <td>Hayden</td>\n",
       "      <td>Aponte</td>\n",
       "      <td>2001-10-13</td>\n",
       "      <td>Right</td>\n",
       "      <td>46316.0</td>\n",
       "      <td>527.193585</td>\n",
       "      <td>7.922205</td>\n",
       "      <td>-5.271936</td>\n",
       "      <td>3.356</td>\n",
       "      <td>-398.101991</td>\n",
       "      <td>341.475606</td>\n",
       "      <td>4.978614</td>\n",
       "      <td>1041.414665</td>\n",
       "      <td>2.068824</td>\n",
       "      <td>-0.529579</td>\n",
       "      <td>-244.57527</td>\n",
       "      <td>-0.09</td>\n",
       "    </tr>\n",
       "  </tbody>\n",
       "</table>\n",
       "</div>"
      ],
      "text/plain": [
       "   Index Hogwarts House First Name   Last Name    Birthday Best Hand  \\\n",
       "0      0      Ravenclaw     Tamara         Hsu  2000-03-30      Left   \n",
       "1      1      Slytherin      Erich     Paredes  1999-10-14     Right   \n",
       "2      2      Ravenclaw   Stephany       Braun  1999-11-03      Left   \n",
       "3      3     Gryffindor      Vesta   Mcmichael  2000-08-19      Left   \n",
       "4      4     Gryffindor     Gaston       Gibbs  1998-09-27      Left   \n",
       "5      5      Slytherin    Corrine     Hammond  1999-04-04     Right   \n",
       "6      6     Gryffindor        Tom       Guido  2000-09-30      Left   \n",
       "7      7     Hufflepuff     Alicia     Hayward  1997-07-08     Right   \n",
       "8      8     Gryffindor      Bella  Leatherman  1998-12-07      Left   \n",
       "9      9     Hufflepuff     Hayden      Aponte  2001-10-13     Right   \n",
       "\n",
       "   Arithmancy   Astronomy  Herbology  Defense Against the Dark Arts  \\\n",
       "0     58384.0 -487.886086   5.727180                       4.878861   \n",
       "1     67239.0 -552.060507  -5.987446                       5.520605   \n",
       "2     23702.0 -366.076117   7.725017                       3.660761   \n",
       "3     32667.0  697.742809  -6.497214                      -6.977428   \n",
       "4     60158.0  436.775204  -7.820623                            NaN   \n",
       "5     21209.0 -613.687160  -4.289197                       6.136872   \n",
       "6     49167.0  628.046051  -4.861976                      -6.280461   \n",
       "7     33010.0  411.412727   5.931832                      -4.114127   \n",
       "8     20278.0  496.394945  -5.215891                      -4.963949   \n",
       "9     46316.0  527.193585   7.922205                      -5.271936   \n",
       "\n",
       "   Divination  Muggle Studies  Ancient Runes  History of Magic  \\\n",
       "0       4.722      272.035831     532.484226          5.231058   \n",
       "1      -5.612     -487.340557     367.760303          4.107170   \n",
       "2       6.140      664.893521     602.585284          3.555579   \n",
       "3       4.026     -537.001128     523.982133         -4.809637   \n",
       "4       2.236     -444.262537     599.324514         -3.444377   \n",
       "5      -6.592     -440.997704     396.201804          5.380286   \n",
       "6         NaN     -926.892512     583.742442         -7.322486   \n",
       "7       2.769     -502.021336     439.351416               NaN   \n",
       "8       5.855     -626.552041     567.842402         -6.198661   \n",
       "9       3.356     -398.101991     341.475606          4.978614   \n",
       "\n",
       "   Transfiguration    Potions  Care of Magical Creatures     Charms  Flying  \n",
       "0      1039.788281   3.790369                   0.715939 -232.79405  -26.89  \n",
       "1      1058.944592   7.248742                   0.091674 -252.18425 -113.45  \n",
       "2      1088.088348   8.728531                  -0.515327 -227.34265   30.42  \n",
       "3       920.391449   0.821911                  -0.014040 -256.84675  200.64  \n",
       "4       937.434724   4.311066                  -0.264070 -256.38730  157.98  \n",
       "5      1052.845164  11.751212                   1.049894 -247.94549  -34.69  \n",
       "6       923.539573   1.646666                   0.153022 -257.83447  261.55  \n",
       "7      1041.091935   6.581791                  -0.171704 -244.03492   72.25  \n",
       "8       925.255500   1.086518                   1.147032 -252.27561  244.11  \n",
       "9      1041.414665   2.068824                  -0.529579 -244.57527   -0.09  "
      ]
     },
     "execution_count": 6,
     "metadata": {},
     "output_type": "execute_result"
    }
   ],
   "source": [
    "data.head(10)"
   ]
  },
  {
   "cell_type": "code",
   "execution_count": 14,
   "metadata": {},
   "outputs": [
    {
     "data": {
      "text/plain": [
       "array(['R', 'S', 'R', 'G', 'G', 'S', 'G', 'H', 'G', 'H'], dtype='<U1')"
      ]
     },
     "execution_count": 14,
     "metadata": {},
     "output_type": "execute_result"
    }
   ],
   "source": [
    "y = list(data[\"Hogwarts House\"])\n",
    "y = [a[0] for a in y]\n",
    "y = np.array(y)\n",
    "y[:10]"
   ]
  },
  {
   "cell_type": "code",
   "execution_count": 23,
   "metadata": {},
   "outputs": [
    {
     "data": {
      "text/plain": [
       "array([[ 1.00000000e+00,  5.83840000e+04, -4.87886086e+02],\n",
       "       [ 1.00000000e+00,  6.72390000e+04, -5.52060507e+02],\n",
       "       [ 1.00000000e+00,  2.37020000e+04, -3.66076117e+02],\n",
       "       [ 1.00000000e+00,  3.26670000e+04,  6.97742809e+02],\n",
       "       [ 1.00000000e+00,  6.01580000e+04,  4.36775204e+02],\n",
       "       [ 1.00000000e+00,  2.12090000e+04, -6.13687160e+02],\n",
       "       [ 1.00000000e+00,  4.91670000e+04,  6.28046051e+02],\n",
       "       [ 1.00000000e+00,  3.30100000e+04,  4.11412727e+02],\n",
       "       [ 1.00000000e+00,  2.02780000e+04,  4.96394945e+02],\n",
       "       [ 1.00000000e+00,  4.63160000e+04,  5.27193585e+02]])"
      ]
     },
     "execution_count": 23,
     "metadata": {},
     "output_type": "execute_result"
    }
   ],
   "source": [
    "X0 = np.ones(m)\n",
    "X = np.array(data[[\"Arithmancy\",\"Astronomy\"]])\n",
    "X = np.c_[X0, X]\n",
    "X[:10]"
   ]
  },
  {
   "cell_type": "code",
   "execution_count": 30,
   "metadata": {},
   "outputs": [],
   "source": [
    "def visualize_before(x, y, color):\n",
    "    fig = plt.figure()\n",
    "    ax = plt.axes()\n",
    "    ax.scatter(x, y, c=color)\n",
    "    #plt.plot(x, x * slop + intercept, 'b', linewidth=0.2)\n",
    "    plt.xlabel('Exam 1 score')\n",
    "    plt.ylabel('Exam 2 score')\n",
    "    plt.title('Figure 2: Training data with decision boundary')\n",
    "    plt.show()\n"
   ]
  },
  {
   "cell_type": "code",
   "execution_count": 31,
   "metadata": {},
   "outputs": [
    {
     "data": {
      "text/plain": [
       "array([0., 0., 0., 0., 0., 0., 0., 0., 0., 0., 0., 0., 0., 0., 0.])"
      ]
     },
     "execution_count": 31,
     "metadata": {},
     "output_type": "execute_result"
    }
   ],
   "source": [
    "theta = np.zeros(15)\n",
    "theta\n"
   ]
  },
  {
   "cell_type": "code",
   "execution_count": 32,
   "metadata": {},
   "outputs": [
    {
     "data": {
      "image/png": "[encoded data removed]",
      "text/plain": [
       "<Figure size 432x288 with 1 Axes>"
      ]
     },
     "metadata": {},
     "output_type": "display_data"
    }
   ],
   "source": [
    "visualize_before(X[:,1], X[:,2],\"red\")"
   ]
  },
  {
   "cell_type": "code",
   "execution_count": 34,
   "metadata": {},
   "outputs": [],
   "source": [
    "def get_intercept_slope(theta):\n",
    "    x_1 = 0\n",
    "    intercept = 0\n",
    "    pred = 0\n",
    "    while pred < 0.5:\n",
    "        p = [1, x_1, intercept]\n",
    "        intercept += 0.1\n",
    "        pred = hipothesis_log(p, theta)\n",
    "    x_1 = 30\n",
    "    x_2 = 40\n",
    "    y_1 = 0\n",
    "    y_2 = 0\n",
    "    pred = 0\n",
    "    while pred < 0.5:\n",
    "        p = [1, x_1, y_1]\n",
    "        y_1 += 0.1\n",
    "        pred = hipothesis_log(p, theta)\n",
    "    pred = 0\n",
    "    while pred < 0.5:\n",
    "        p = [1, x_2, y_2]\n",
    "        y_2 += 0.1\n",
    "        pred = hipothesis_log(p, theta)\n",
    "    slop = (x_1 - x_2) / (y_1 - y_2)\n",
    "    return (intercept, slop)\n",
    "\n",
    "\n"
   ]
  },
  {
   "cell_type": "code",
   "execution_count": 39,
   "metadata": {},
   "outputs": [
    {
     "ename": "NameError",
     "evalue": "name 'hipothesis_log' is not defined",
     "output_type": "error",
     "traceback": [
      "\u001b[0;31m---------------------------------------------------------------------------\u001b[0m",
      "\u001b[0;31mNameError\u001b[0m                                 Traceback (most recent call last)",
      "\u001b[0;32m<ipython-input-39-782566b9bb87>\u001b[0m in \u001b[0;36m<module>\u001b[0;34m()\u001b[0m\n\u001b[0;32m----> 1\u001b[0;31m \u001b[0mintercept\u001b[0m\u001b[0;34m,\u001b[0m \u001b[0mslop\u001b[0m \u001b[0;34m=\u001b[0m \u001b[0mget_intercept_slope\u001b[0m\u001b[0;34m(\u001b[0m\u001b[0mtheta\u001b[0m\u001b[0;34m)\u001b[0m\u001b[0;34m\u001b[0m\u001b[0m\n\u001b[0m",
      "\u001b[0;32m<ipython-input-34-d233db9282f9>\u001b[0m in \u001b[0;36mget_intercept_slope\u001b[0;34m(theta)\u001b[0m\n\u001b[1;32m      6\u001b[0m         \u001b[0mp\u001b[0m \u001b[0;34m=\u001b[0m \u001b[0;34m[\u001b[0m\u001b[0;36m1\u001b[0m\u001b[0;34m,\u001b[0m \u001b[0mx_1\u001b[0m\u001b[0;34m,\u001b[0m \u001b[0mintercept\u001b[0m\u001b[0;34m]\u001b[0m\u001b[0;34m\u001b[0m\u001b[0m\n\u001b[1;32m      7\u001b[0m         \u001b[0mintercept\u001b[0m \u001b[0;34m+=\u001b[0m \u001b[0;36m0.1\u001b[0m\u001b[0;34m\u001b[0m\u001b[0m\n\u001b[0;32m----> 8\u001b[0;31m         \u001b[0mpred\u001b[0m \u001b[0;34m=\u001b[0m \u001b[0mhipothesis_log\u001b[0m\u001b[0;34m(\u001b[0m\u001b[0mp\u001b[0m\u001b[0;34m,\u001b[0m \u001b[0mtheta\u001b[0m\u001b[0;34m)\u001b[0m\u001b[0;34m\u001b[0m\u001b[0m\n\u001b[0m\u001b[1;32m      9\u001b[0m     \u001b[0mx_1\u001b[0m \u001b[0;34m=\u001b[0m \u001b[0;36m30\u001b[0m\u001b[0;34m\u001b[0m\u001b[0m\n\u001b[1;32m     10\u001b[0m     \u001b[0mx_2\u001b[0m \u001b[0;34m=\u001b[0m \u001b[0;36m40\u001b[0m\u001b[0;34m\u001b[0m\u001b[0m\n",
      "\u001b[0;31mNameError\u001b[0m: name 'hipothesis_log' is not defined"
     ]
    }
   ],
   "source": [
    "intercept, slop = get_intercept_slope(theta)"
   ]
  },
  {
   "cell_type": "code",
   "execution_count": 36,
   "metadata": {},
   "outputs": [],
   "source": [
    "def visualize_after(x, y, color, theta):\n",
    "    fig = plt.figure()\n",
    "    ax = plt.axes()\n",
    "    ax.scatter(x, y, c=color)\n",
    "    #plt.plot(x, x * slop + intercept, 'b', linewidth=0.2)\n",
    "    plt.xlabel('Exam 1 score')\n",
    "    plt.ylabel('Exam 2 score')\n",
    "    plt.title('Figure 2: Training data with decision boundary')\n",
    "    plt.show()\n"
   ]
  },
  {
   "cell_type": "code",
   "execution_count": 38,
   "metadata": {},
   "outputs": [
    {
     "data": {
      "image/png": "[encoded data removed]",
      "text/plain": [
       "<Figure size 432x288 with 1 Axes>"
      ]
     },
     "metadata": {},
     "output_type": "display_data"
    }
   ],
   "source": [
    "visualize_after(X[:,1], X[:,2], \"blue\", theta)"
   ]
  },
  {
   "cell_type": "code",
   "execution_count": null,
   "metadata": {},
   "outputs": [],
   "source": []
  }
 ],
 "metadata": {
  "kernelspec": {
   "display_name": "Python 3",
   "language": "python",
   "name": "python3"
  },
  "language_info": {
   "codemirror_mode": {
    "name": "ipython",
    "version": 3
   },
   "file_extension": ".py",
   "mimetype": "text/x-python",
   "name": "python",
   "nbconvert_exporter": "python",
   "pygments_lexer": "ipython3",
   "version": "3.6.5"
  }
 },
 "nbformat": 4,
 "nbformat_minor": 2
}
